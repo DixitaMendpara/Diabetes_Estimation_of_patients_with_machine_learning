{
  "cells": [
    {
      "cell_type": "code",
      "execution_count": 9,
      "metadata": {
        "id": "bQjExdP5IQJO",
        "colab": {
          "base_uri": "https://localhost:8080/"
        },
        "outputId": "fc9422af-8784-474c-f633-e69b2df3b6fe"
      },
      "outputs": [
        {
          "output_type": "stream",
          "name": "stdout",
          "text": [
            "Mounted at /content/drive\n"
          ]
        }
      ],
      "source": [
        "import pandas as pd\n",
        "import numpy as np\n",
        "from google.colab import drive\n",
        "drive.mount('/content/drive',force_remount=True)\n",
        "location ='drive/MyDrive/Datasets/diabetes.csv'"
      ]
    },
    {
      "cell_type": "code",
      "execution_count": null,
      "metadata": {
        "id": "h3kTfQUuIQJS"
      },
      "outputs": [],
      "source": [
        "df = pd.read_csv(location)"
      ]
    },
    {
      "cell_type": "code",
      "execution_count": 11,
      "metadata": {
        "id": "wu93JUb4IQJT",
        "outputId": "b18eaed9-46b3-46bd-d1c2-2aab10ae84fe",
        "colab": {
          "base_uri": "https://localhost:8080/",
          "height": 206
        }
      },
      "outputs": [
        {
          "output_type": "execute_result",
          "data": {
            "text/plain": [
              "   Pregnancies  Glucose  BloodPressure  SkinThickness  Insulin   BMI  \\\n",
              "0            6      148             72             35        0  33.6   \n",
              "1            1       85             66             29        0  26.6   \n",
              "2            8      183             64              0        0  23.3   \n",
              "3            1       89             66             23       94  28.1   \n",
              "4            0      137             40             35      168  43.1   \n",
              "\n",
              "   DiabetesPedigreeFunction  Age  Outcome  \n",
              "0                     0.627   50        1  \n",
              "1                     0.351   31        0  \n",
              "2                     0.672   32        1  \n",
              "3                     0.167   21        0  \n",
              "4                     2.288   33        1  "
            ],
            "text/html": [
              "\n",
              "  <div id=\"df-967f2139-7005-4af7-80e3-5166988d5e84\">\n",
              "    <div class=\"colab-df-container\">\n",
              "      <div>\n",
              "<style scoped>\n",
              "    .dataframe tbody tr th:only-of-type {\n",
              "        vertical-align: middle;\n",
              "    }\n",
              "\n",
              "    .dataframe tbody tr th {\n",
              "        vertical-align: top;\n",
              "    }\n",
              "\n",
              "    .dataframe thead th {\n",
              "        text-align: right;\n",
              "    }\n",
              "</style>\n",
              "<table border=\"1\" class=\"dataframe\">\n",
              "  <thead>\n",
              "    <tr style=\"text-align: right;\">\n",
              "      <th></th>\n",
              "      <th>Pregnancies</th>\n",
              "      <th>Glucose</th>\n",
              "      <th>BloodPressure</th>\n",
              "      <th>SkinThickness</th>\n",
              "      <th>Insulin</th>\n",
              "      <th>BMI</th>\n",
              "      <th>DiabetesPedigreeFunction</th>\n",
              "      <th>Age</th>\n",
              "      <th>Outcome</th>\n",
              "    </tr>\n",
              "  </thead>\n",
              "  <tbody>\n",
              "    <tr>\n",
              "      <th>0</th>\n",
              "      <td>6</td>\n",
              "      <td>148</td>\n",
              "      <td>72</td>\n",
              "      <td>35</td>\n",
              "      <td>0</td>\n",
              "      <td>33.6</td>\n",
              "      <td>0.627</td>\n",
              "      <td>50</td>\n",
              "      <td>1</td>\n",
              "    </tr>\n",
              "    <tr>\n",
              "      <th>1</th>\n",
              "      <td>1</td>\n",
              "      <td>85</td>\n",
              "      <td>66</td>\n",
              "      <td>29</td>\n",
              "      <td>0</td>\n",
              "      <td>26.6</td>\n",
              "      <td>0.351</td>\n",
              "      <td>31</td>\n",
              "      <td>0</td>\n",
              "    </tr>\n",
              "    <tr>\n",
              "      <th>2</th>\n",
              "      <td>8</td>\n",
              "      <td>183</td>\n",
              "      <td>64</td>\n",
              "      <td>0</td>\n",
              "      <td>0</td>\n",
              "      <td>23.3</td>\n",
              "      <td>0.672</td>\n",
              "      <td>32</td>\n",
              "      <td>1</td>\n",
              "    </tr>\n",
              "    <tr>\n",
              "      <th>3</th>\n",
              "      <td>1</td>\n",
              "      <td>89</td>\n",
              "      <td>66</td>\n",
              "      <td>23</td>\n",
              "      <td>94</td>\n",
              "      <td>28.1</td>\n",
              "      <td>0.167</td>\n",
              "      <td>21</td>\n",
              "      <td>0</td>\n",
              "    </tr>\n",
              "    <tr>\n",
              "      <th>4</th>\n",
              "      <td>0</td>\n",
              "      <td>137</td>\n",
              "      <td>40</td>\n",
              "      <td>35</td>\n",
              "      <td>168</td>\n",
              "      <td>43.1</td>\n",
              "      <td>2.288</td>\n",
              "      <td>33</td>\n",
              "      <td>1</td>\n",
              "    </tr>\n",
              "  </tbody>\n",
              "</table>\n",
              "</div>\n",
              "      <button class=\"colab-df-convert\" onclick=\"convertToInteractive('df-967f2139-7005-4af7-80e3-5166988d5e84')\"\n",
              "              title=\"Convert this dataframe to an interactive table.\"\n",
              "              style=\"display:none;\">\n",
              "        \n",
              "  <svg xmlns=\"http://www.w3.org/2000/svg\" height=\"24px\"viewBox=\"0 0 24 24\"\n",
              "       width=\"24px\">\n",
              "    <path d=\"M0 0h24v24H0V0z\" fill=\"none\"/>\n",
              "    <path d=\"M18.56 5.44l.94 2.06.94-2.06 2.06-.94-2.06-.94-.94-2.06-.94 2.06-2.06.94zm-11 1L8.5 8.5l.94-2.06 2.06-.94-2.06-.94L8.5 2.5l-.94 2.06-2.06.94zm10 10l.94 2.06.94-2.06 2.06-.94-2.06-.94-.94-2.06-.94 2.06-2.06.94z\"/><path d=\"M17.41 7.96l-1.37-1.37c-.4-.4-.92-.59-1.43-.59-.52 0-1.04.2-1.43.59L10.3 9.45l-7.72 7.72c-.78.78-.78 2.05 0 2.83L4 21.41c.39.39.9.59 1.41.59.51 0 1.02-.2 1.41-.59l7.78-7.78 2.81-2.81c.8-.78.8-2.07 0-2.86zM5.41 20L4 18.59l7.72-7.72 1.47 1.35L5.41 20z\"/>\n",
              "  </svg>\n",
              "      </button>\n",
              "      \n",
              "  <style>\n",
              "    .colab-df-container {\n",
              "      display:flex;\n",
              "      flex-wrap:wrap;\n",
              "      gap: 12px;\n",
              "    }\n",
              "\n",
              "    .colab-df-convert {\n",
              "      background-color: #E8F0FE;\n",
              "      border: none;\n",
              "      border-radius: 50%;\n",
              "      cursor: pointer;\n",
              "      display: none;\n",
              "      fill: #1967D2;\n",
              "      height: 32px;\n",
              "      padding: 0 0 0 0;\n",
              "      width: 32px;\n",
              "    }\n",
              "\n",
              "    .colab-df-convert:hover {\n",
              "      background-color: #E2EBFA;\n",
              "      box-shadow: 0px 1px 2px rgba(60, 64, 67, 0.3), 0px 1px 3px 1px rgba(60, 64, 67, 0.15);\n",
              "      fill: #174EA6;\n",
              "    }\n",
              "\n",
              "    [theme=dark] .colab-df-convert {\n",
              "      background-color: #3B4455;\n",
              "      fill: #D2E3FC;\n",
              "    }\n",
              "\n",
              "    [theme=dark] .colab-df-convert:hover {\n",
              "      background-color: #434B5C;\n",
              "      box-shadow: 0px 1px 3px 1px rgba(0, 0, 0, 0.15);\n",
              "      filter: drop-shadow(0px 1px 2px rgba(0, 0, 0, 0.3));\n",
              "      fill: #FFFFFF;\n",
              "    }\n",
              "  </style>\n",
              "\n",
              "      <script>\n",
              "        const buttonEl =\n",
              "          document.querySelector('#df-967f2139-7005-4af7-80e3-5166988d5e84 button.colab-df-convert');\n",
              "        buttonEl.style.display =\n",
              "          google.colab.kernel.accessAllowed ? 'block' : 'none';\n",
              "\n",
              "        async function convertToInteractive(key) {\n",
              "          const element = document.querySelector('#df-967f2139-7005-4af7-80e3-5166988d5e84');\n",
              "          const dataTable =\n",
              "            await google.colab.kernel.invokeFunction('convertToInteractive',\n",
              "                                                     [key], {});\n",
              "          if (!dataTable) return;\n",
              "\n",
              "          const docLinkHtml = 'Like what you see? Visit the ' +\n",
              "            '<a target=\"_blank\" href=https://colab.research.google.com/notebooks/data_table.ipynb>data table notebook</a>'\n",
              "            + ' to learn more about interactive tables.';\n",
              "          element.innerHTML = '';\n",
              "          dataTable['output_type'] = 'display_data';\n",
              "          await google.colab.output.renderOutput(dataTable, element);\n",
              "          const docLink = document.createElement('div');\n",
              "          docLink.innerHTML = docLinkHtml;\n",
              "          element.appendChild(docLink);\n",
              "        }\n",
              "      </script>\n",
              "    </div>\n",
              "  </div>\n",
              "  "
            ]
          },
          "metadata": {},
          "execution_count": 11
        }
      ],
      "source": [
        "df.head()"
      ]
    },
    {
      "cell_type": "markdown",
      "metadata": {
        "id": "Ras6bQIZIQJU"
      },
      "source": [
        "- Pregnancies: Number of times pregnant\n",
        "- Glucose: Plasma glucose concentration a 2 hours in an oral glucose tolerance test\n",
        "- BloodPressure: Diastolic blood pressure (mm Hg)\n",
        "- SkinThickness: Triceps skin fold thickness (mm)\n",
        "- Insulin: 2-Hour serum insulin (mu U/ml)\n",
        "- BMI: Body mass index (weight in kg/(height in m)^2)\n",
        "- DiabetesPedigreeFunction: Diabetes pedigree function(a function which scores likelihood of diabetes based on family history)\n",
        "- Age: Age (years)\n",
        "- Outcome: Class variable (0 or 1)"
      ]
    },
    {
      "cell_type": "code",
      "execution_count": 12,
      "metadata": {
        "id": "op9-UAOfIQJW",
        "outputId": "b39686b5-04af-442f-cf1a-abeeb3ca2b6d",
        "colab": {
          "base_uri": "https://localhost:8080/"
        }
      },
      "outputs": [
        {
          "output_type": "stream",
          "name": "stdout",
          "text": [
            "<class 'pandas.core.frame.DataFrame'>\n",
            "RangeIndex: 768 entries, 0 to 767\n",
            "Data columns (total 9 columns):\n",
            " #   Column                    Non-Null Count  Dtype  \n",
            "---  ------                    --------------  -----  \n",
            " 0   Pregnancies               768 non-null    int64  \n",
            " 1   Glucose                   768 non-null    int64  \n",
            " 2   BloodPressure             768 non-null    int64  \n",
            " 3   SkinThickness             768 non-null    int64  \n",
            " 4   Insulin                   768 non-null    int64  \n",
            " 5   BMI                       768 non-null    float64\n",
            " 6   DiabetesPedigreeFunction  768 non-null    float64\n",
            " 7   Age                       768 non-null    int64  \n",
            " 8   Outcome                   768 non-null    int64  \n",
            "dtypes: float64(2), int64(7)\n",
            "memory usage: 54.1 KB\n"
          ]
        }
      ],
      "source": [
        "df.info()"
      ]
    },
    {
      "cell_type": "code",
      "execution_count": 13,
      "metadata": {
        "id": "vUA3XX9tIQJW",
        "outputId": "cd51cba6-3394-4e52-c4ca-91e1ecd2a4b6",
        "colab": {
          "base_uri": "https://localhost:8080/",
          "height": 607
        }
      },
      "outputs": [
        {
          "output_type": "display_data",
          "data": {
            "text/plain": [
              "<Figure size 720x720 with 9 Axes>"
            ],
            "image/png": "[encoded data removed]"
          },
          "metadata": {
            "needs_background": "light"
          }
        }
      ],
      "source": [
        "_ = df.hist(figsize=(10, 10))"
      ]
    },
    {
      "cell_type": "code",
      "execution_count": 14,
      "metadata": {
        "id": "IgUx2klxIQJX",
        "outputId": "6d2b2005-af8d-40cd-e91c-3476b131c148",
        "colab": {
          "base_uri": "https://localhost:8080/",
          "height": 324
        }
      },
      "outputs": [
        {
          "output_type": "display_data",
          "data": {
            "text/plain": [
              "<Figure size 720x720 with 8 Axes>"
            ],
            "image/png": "[encoded data removed]"
          },
          "metadata": {
            "needs_background": "light"
          }
        }
      ],
      "source": [
        "import matplotlib.pyplot as plt\n",
        "\n",
        "features = df.columns.delete(-1)\n",
        "plt.figure(figsize=(10, 10))\n",
        "for i, col in enumerate(features, 1):\n",
        "    plt.subplot(4, 4, i)\n",
        "    plt.boxplot(df[col])\n",
        "    plt.title(col)"
      ]
    },
    {
      "cell_type": "code",
      "execution_count": 15,
      "metadata": {
        "id": "9ol24UhsIQJY",
        "outputId": "f78facff-eeba-4fd3-81c8-853d8087f2ab",
        "colab": {
          "base_uri": "https://localhost:8080/",
          "height": 407
        }
      },
      "outputs": [
        {
          "output_type": "execute_result",
          "data": {
            "text/plain": [
              "<matplotlib.axes._subplots.AxesSubplot at 0x7f25df822f70>"
            ]
          },
          "metadata": {},
          "execution_count": 15
        },
        {
          "output_type": "display_data",
          "data": {
            "text/plain": [
              "<Figure size 432x288 with 2 Axes>"
            ],
            "image/png": "[encoded data removed]"
          },
          "metadata": {
            "needs_background": "light"
          }
        }
      ],
      "source": [
        "import seaborn as sns\n",
        "\n",
        "\n",
        "corr_mx = df.corr()\n",
        "sns.heatmap(corr_mx, annot=True)"
      ]
    },
    {
      "cell_type": "markdown",
      "metadata": {
        "id": "mGYHm7wAIQJZ"
      },
      "source": [
        "Part - 2"
      ]
    },
    {
      "cell_type": "code",
      "execution_count": 16,
      "metadata": {
        "id": "GIbXZ3KmIQJZ"
      },
      "outputs": [],
      "source": [
        "from sklearn.model_selection import train_test_split\n",
        "\n",
        "X = df.drop('Outcome', axis=1)\n",
        "y = df['Outcome'].copy()\n",
        "\n",
        "X_train, X_test, y_train, y_test = train_test_split(X, y, test_size=0.2, random_state=7)"
      ]
    },
    {
      "cell_type": "code",
      "execution_count": 17,
      "metadata": {
        "id": "j6N1lJUOIQJa"
      },
      "outputs": [],
      "source": [
        "from sklearn.preprocessing import StandardScaler\n",
        "\n",
        "scaler = StandardScaler()\n",
        "X_tr_scaled = scaler.fit_transform(X_train)\n",
        "\n",
        "scores = dict()"
      ]
    },
    {
      "cell_type": "markdown",
      "metadata": {
        "id": "KNinpZxlIQJa"
      },
      "source": [
        "### Random Forest Classifier"
      ]
    },
    {
      "cell_type": "code",
      "execution_count": 18,
      "metadata": {
        "id": "6r5CLP1LIQJa",
        "outputId": "c1bb0d81-0de6-4783-a51a-f52ca729c9c8",
        "colab": {
          "base_uri": "https://localhost:8080/"
        }
      },
      "outputs": [
        {
          "output_type": "execute_result",
          "data": {
            "text/plain": [
              "0.8181818181818182"
            ]
          },
          "metadata": {},
          "execution_count": 18
        }
      ],
      "source": [
        "from sklearn.ensemble import RandomForestClassifier\n",
        "from sklearn.metrics import classification_report,roc_auc_score\n",
        "\n",
        "\n",
        "rf_clf = RandomForestClassifier(random_state=10)\n",
        "rf_clf.fit(X_tr_scaled, y_train)\n",
        "\n",
        "X_tst_scaled = scaler.transform(X_test)\n",
        "rf_clf.score(X_tst_scaled, y_test)"
      ]
    },
    {
      "cell_type": "code",
      "execution_count": 19,
      "metadata": {
        "id": "9DnVpAqUIQJb",
        "outputId": "7e82c9bf-a920-46cc-edb8-3dda8c6be238",
        "colab": {
          "base_uri": "https://localhost:8080/"
        }
      },
      "outputs": [
        {
          "output_type": "stream",
          "name": "stdout",
          "text": [
            "              precision    recall  f1-score   support\n",
            "\n",
            "           0       0.82      0.92      0.86        97\n",
            "           1       0.82      0.65      0.73        57\n",
            "\n",
            "    accuracy                           0.82       154\n",
            "   macro avg       0.82      0.78      0.79       154\n",
            "weighted avg       0.82      0.82      0.81       154\n",
            "\n"
          ]
        }
      ],
      "source": [
        "rf_pred = rf_clf.predict(X_tst_scaled)\n",
        "print(classification_report(y_test, rf_pred))"
      ]
    },
    {
      "cell_type": "code",
      "execution_count": 20,
      "metadata": {
        "id": "gyZaUG3EIQJc"
      },
      "outputs": [],
      "source": [
        "from sklearn.metrics import accuracy_score\n",
        "\n",
        "scores['Random Forest'] = accuracy_score(y_test, rf_pred)"
      ]
    },
    {
      "cell_type": "code",
      "execution_count": 21,
      "metadata": {
        "id": "OPQNEa_XIQJc",
        "outputId": "7ab82dc8-4b58-472b-c851-8a3d1267b84b",
        "colab": {
          "base_uri": "https://localhost:8080/"
        }
      },
      "outputs": [
        {
          "output_type": "execute_result",
          "data": {
            "text/plain": [
              "0.78332429010671"
            ]
          },
          "metadata": {},
          "execution_count": 21
        }
      ],
      "source": [
        "roc_auc_score(y_test, rf_pred)"
      ]
    },
    {
      "cell_type": "markdown",
      "metadata": {
        "id": "WiwX1OTGIQJc"
      },
      "source": [
        "### AdaBoost classifier"
      ]
    },
    {
      "cell_type": "code",
      "execution_count": 22,
      "metadata": {
        "id": "hRtt_d85IQJd",
        "outputId": "e8ef2e0d-e1a8-4277-d0a0-8665c7af7906",
        "colab": {
          "base_uri": "https://localhost:8080/"
        }
      },
      "outputs": [
        {
          "output_type": "execute_result",
          "data": {
            "text/plain": [
              "0.7532467532467533"
            ]
          },
          "metadata": {},
          "execution_count": 22
        }
      ],
      "source": [
        "from sklearn.ensemble import AdaBoostClassifier\n",
        "\n",
        "\n",
        "ada_clf = AdaBoostClassifier(random_state=10)\n",
        "ada_clf.fit(X_tr_scaled, y_train)\n",
        "\n",
        "ada_clf.score(X_tst_scaled, y_test)"
      ]
    },
    {
      "cell_type": "code",
      "execution_count": 23,
      "metadata": {
        "id": "5cXE8gBIIQJe",
        "outputId": "27c97901-becd-4f28-e23e-98ffba6bde33",
        "colab": {
          "base_uri": "https://localhost:8080/"
        }
      },
      "outputs": [
        {
          "output_type": "stream",
          "name": "stdout",
          "text": [
            "              precision    recall  f1-score   support\n",
            "\n",
            "           0       0.78      0.86      0.81        97\n",
            "           1       0.70      0.58      0.63        57\n",
            "\n",
            "    accuracy                           0.75       154\n",
            "   macro avg       0.74      0.72      0.72       154\n",
            "weighted avg       0.75      0.75      0.75       154\n",
            "\n"
          ]
        }
      ],
      "source": [
        "ada_pred = ada_clf.predict(X_tst_scaled)\n",
        "print(classification_report(y_test, ada_pred))"
      ]
    },
    {
      "cell_type": "code",
      "execution_count": 24,
      "metadata": {
        "id": "fBQZG0stIQJe"
      },
      "outputs": [],
      "source": [
        "scores['AdaBoost'] = accuracy_score(y_test, ada_pred)"
      ]
    },
    {
      "cell_type": "code",
      "execution_count": 25,
      "metadata": {
        "id": "wX39vHAFIQJf",
        "outputId": "d94520a9-9b0e-417c-a535-f323258bfcc9",
        "colab": {
          "base_uri": "https://localhost:8080/"
        }
      },
      "outputs": [
        {
          "output_type": "execute_result",
          "data": {
            "text/plain": [
              "0.7173087357569181"
            ]
          },
          "metadata": {},
          "execution_count": 25
        }
      ],
      "source": [
        "roc_auc_score(y_test, ada_pred)"
      ]
    },
    {
      "cell_type": "markdown",
      "metadata": {
        "id": "XlZj7Ca6IQJf"
      },
      "source": [
        "### Support Vector Machines"
      ]
    },
    {
      "cell_type": "code",
      "execution_count": 26,
      "metadata": {
        "id": "FvZzK6SJIQJf",
        "outputId": "c83268b6-8be7-45bb-d0a0-0819fd42e933",
        "colab": {
          "base_uri": "https://localhost:8080/"
        }
      },
      "outputs": [
        {
          "output_type": "execute_result",
          "data": {
            "text/plain": [
              "0.7987012987012987"
            ]
          },
          "metadata": {},
          "execution_count": 26
        }
      ],
      "source": [
        "from sklearn.svm import SVC\n",
        "\n",
        "svm_clf = SVC(random_state=10)\n",
        "svm_clf.fit(X_tr_scaled, y_train)\n",
        "\n",
        "svm_clf.score(X_tst_scaled, y_test)"
      ]
    },
    {
      "cell_type": "code",
      "execution_count": 27,
      "metadata": {
        "id": "5Kv1Rrh0IQJg",
        "outputId": "95ef8ce1-a4a4-4aa0-9124-87a2b55d0d03",
        "colab": {
          "base_uri": "https://localhost:8080/"
        }
      },
      "outputs": [
        {
          "output_type": "stream",
          "name": "stdout",
          "text": [
            "              precision    recall  f1-score   support\n",
            "\n",
            "           0       0.79      0.92      0.85        97\n",
            "           1       0.81      0.60      0.69        57\n",
            "\n",
            "    accuracy                           0.80       154\n",
            "   macro avg       0.80      0.76      0.77       154\n",
            "weighted avg       0.80      0.80      0.79       154\n",
            "\n"
          ]
        }
      ],
      "source": [
        "svm_pred = svm_clf.predict(X_tst_scaled)\n",
        "print(classification_report(y_test, svm_pred))"
      ]
    },
    {
      "cell_type": "code",
      "execution_count": 28,
      "metadata": {
        "id": "-RSt6IITIQJg"
      },
      "outputs": [],
      "source": [
        "scores['SVM'] = accuracy_score(y_test, svm_pred)"
      ]
    },
    {
      "cell_type": "code",
      "execution_count": 29,
      "metadata": {
        "id": "GNN9KWfhIQJh",
        "outputId": "b68d4da7-3fcd-4207-9f93-313ee438d841",
        "colab": {
          "base_uri": "https://localhost:8080/"
        }
      },
      "outputs": [
        {
          "output_type": "execute_result",
          "data": {
            "text/plain": [
              "0.7570085006330258"
            ]
          },
          "metadata": {},
          "execution_count": 29
        }
      ],
      "source": [
        "roc_auc_score(y_test, svm_pred)"
      ]
    },
    {
      "cell_type": "markdown",
      "metadata": {
        "id": "mMm4WHcFIQJh"
      },
      "source": [
        "### Perceptron"
      ]
    },
    {
      "cell_type": "code",
      "execution_count": 30,
      "metadata": {
        "id": "fn9WyMkwIQJh",
        "outputId": "688a625c-d3ff-4a36-a7ec-0119bbb4f51c",
        "colab": {
          "base_uri": "https://localhost:8080/"
        }
      },
      "outputs": [
        {
          "output_type": "execute_result",
          "data": {
            "text/plain": [
              "0.6818181818181818"
            ]
          },
          "metadata": {},
          "execution_count": 30
        }
      ],
      "source": [
        "from sklearn.linear_model import Perceptron\n",
        "\n",
        "\n",
        "perc_clf = Perceptron(random_state=10)\n",
        "perc_clf.fit(X_tr_scaled, y_train)\n",
        "\n",
        "perc_clf.score(X_tst_scaled, y_test)"
      ]
    },
    {
      "cell_type": "code",
      "execution_count": 31,
      "metadata": {
        "id": "oxaa2FodIQJh",
        "outputId": "70b144ef-78bd-4664-b05e-356f15dcecf4",
        "colab": {
          "base_uri": "https://localhost:8080/"
        }
      },
      "outputs": [
        {
          "output_type": "stream",
          "name": "stdout",
          "text": [
            "              precision    recall  f1-score   support\n",
            "\n",
            "           0       0.74      0.76      0.75        97\n",
            "           1       0.57      0.54      0.56        57\n",
            "\n",
            "    accuracy                           0.68       154\n",
            "   macro avg       0.66      0.65      0.65       154\n",
            "weighted avg       0.68      0.68      0.68       154\n",
            "\n"
          ]
        }
      ],
      "source": [
        "perc_pred = perc_clf.predict(X_tst_scaled)\n",
        "print(classification_report(y_test, perc_pred))"
      ]
    },
    {
      "cell_type": "code",
      "execution_count": 32,
      "metadata": {
        "id": "6wqUZDKvIQJh"
      },
      "outputs": [],
      "source": [
        "scores['Perceptron'] = accuracy_score(y_test, perc_pred)"
      ]
    },
    {
      "cell_type": "code",
      "execution_count": 33,
      "metadata": {
        "id": "FsKJltkYIQJh",
        "outputId": "db2a71d3-4bd5-4a5b-d783-55084ad694ee",
        "colab": {
          "base_uri": "https://localhost:8080/"
        }
      },
      "outputs": [
        {
          "output_type": "execute_result",
          "data": {
            "text/plain": [
              "0.6533731235304756"
            ]
          },
          "metadata": {},
          "execution_count": 33
        }
      ],
      "source": [
        "roc_auc_score(y_test, perc_pred)"
      ]
    },
    {
      "cell_type": "markdown",
      "metadata": {
        "id": "z6euL8jeIQJi"
      },
      "source": [
        "### Logistic Regression"
      ]
    },
    {
      "cell_type": "code",
      "execution_count": 34,
      "metadata": {
        "id": "i2NLfnwEIQJi",
        "outputId": "dbb13d60-33b2-4896-e718-882108a54586",
        "colab": {
          "base_uri": "https://localhost:8080/"
        }
      },
      "outputs": [
        {
          "output_type": "execute_result",
          "data": {
            "text/plain": [
              "0.7857142857142857"
            ]
          },
          "metadata": {},
          "execution_count": 34
        }
      ],
      "source": [
        "from sklearn.linear_model import LogisticRegression\n",
        "\n",
        "\n",
        "log_clf = LogisticRegression(random_state=10)\n",
        "log_clf.fit(X_tr_scaled, y_train)\n",
        "\n",
        "log_clf.score(X_tst_scaled, y_test)"
      ]
    },
    {
      "cell_type": "code",
      "execution_count": 35,
      "metadata": {
        "id": "g-0j0ArxIQJi",
        "outputId": "cb45d259-cd28-4c75-c05a-4020a1868261",
        "colab": {
          "base_uri": "https://localhost:8080/"
        }
      },
      "outputs": [
        {
          "output_type": "stream",
          "name": "stdout",
          "text": [
            "              precision    recall  f1-score   support\n",
            "\n",
            "           0       0.78      0.92      0.84        97\n",
            "           1       0.80      0.56      0.66        57\n",
            "\n",
            "    accuracy                           0.79       154\n",
            "   macro avg       0.79      0.74      0.75       154\n",
            "weighted avg       0.79      0.79      0.78       154\n",
            "\n"
          ]
        }
      ],
      "source": [
        "log_pred = log_clf.predict(X_tst_scaled)\n",
        "print(classification_report(y_test, log_pred))"
      ]
    },
    {
      "cell_type": "code",
      "execution_count": 36,
      "metadata": {
        "id": "5aDDlWWgIQJi"
      },
      "outputs": [],
      "source": [
        "scores['Logistic Regression'] = accuracy_score(y_test, log_pred)"
      ]
    },
    {
      "cell_type": "code",
      "execution_count": 37,
      "metadata": {
        "id": "ehKVG-11IQJi",
        "outputId": "c05b1d5b-5951-425b-9559-c39ef43bca72",
        "colab": {
          "base_uri": "https://localhost:8080/"
        }
      },
      "outputs": [
        {
          "output_type": "execute_result",
          "data": {
            "text/plain": [
              "0.739464640983903"
            ]
          },
          "metadata": {},
          "execution_count": 37
        }
      ],
      "source": [
        "roc_auc_score(y_test, log_pred)"
      ]
    },
    {
      "cell_type": "markdown",
      "metadata": {
        "id": "rFICmFtBIQJi"
      },
      "source": [
        "### K Nearest Neighbors classifier"
      ]
    },
    {
      "cell_type": "code",
      "execution_count": 38,
      "metadata": {
        "id": "4AmdN_QBIQJi",
        "outputId": "31f2f02f-ba2e-43df-990d-7a86e307b825",
        "colab": {
          "base_uri": "https://localhost:8080/"
        }
      },
      "outputs": [
        {
          "output_type": "execute_result",
          "data": {
            "text/plain": [
              "0.7272727272727273"
            ]
          },
          "metadata": {},
          "execution_count": 38
        }
      ],
      "source": [
        "from sklearn.neighbors import KNeighborsClassifier\n",
        "\n",
        "knn_clf = KNeighborsClassifier()\n",
        "knn_clf.fit(X_tr_scaled, y_train)\n",
        "\n",
        "knn_clf.score(X_tst_scaled, y_test)"
      ]
    },
    {
      "cell_type": "code",
      "execution_count": 39,
      "metadata": {
        "id": "hcI28dm7IQJj",
        "outputId": "5b0229aa-9d41-463b-b425-1a208b96cd59",
        "colab": {
          "base_uri": "https://localhost:8080/"
        }
      },
      "outputs": [
        {
          "output_type": "stream",
          "name": "stdout",
          "text": [
            "              precision    recall  f1-score   support\n",
            "\n",
            "           0       0.76      0.84      0.79        97\n",
            "           1       0.66      0.54      0.60        57\n",
            "\n",
            "    accuracy                           0.73       154\n",
            "   macro avg       0.71      0.69      0.70       154\n",
            "weighted avg       0.72      0.73      0.72       154\n",
            "\n"
          ]
        }
      ],
      "source": [
        "knn_pred = knn_clf.predict(X_tst_scaled)\n",
        "print(classification_report(y_test, knn_pred))"
      ]
    },
    {
      "cell_type": "code",
      "execution_count": 40,
      "metadata": {
        "id": "zlY5Ld_LIQJj"
      },
      "outputs": [],
      "source": [
        "scores['KNN'] = accuracy_score(y_test, knn_pred)"
      ]
    },
    {
      "cell_type": "code",
      "execution_count": 41,
      "metadata": {
        "id": "AKxaiEbyIQJj",
        "outputId": "f0ac1580-a152-4ef7-871e-3cdaae60f0ab",
        "colab": {
          "base_uri": "https://localhost:8080/"
        }
      },
      "outputs": [
        {
          "output_type": "execute_result",
          "data": {
            "text/plain": [
              "0.6894555977572798"
            ]
          },
          "metadata": {},
          "execution_count": 41
        }
      ],
      "source": [
        "roc_auc_score(y_test, knn_pred)"
      ]
    },
    {
      "cell_type": "markdown",
      "metadata": {
        "id": "sy63Hz8rIQJj"
      },
      "source": [
        "Part - 3"
      ]
    },
    {
      "cell_type": "code",
      "execution_count": 42,
      "metadata": {
        "id": "kMt8PixDIQJj",
        "outputId": "d3d2e5a9-b25a-4d53-8e09-f16ccedfa4e2",
        "colab": {
          "base_uri": "https://localhost:8080/",
          "height": 367
        }
      },
      "outputs": [
        {
          "output_type": "display_data",
          "data": {
            "text/plain": [
              "<Figure size 432x288 with 1 Axes>"
            ],
            "image/png": "[encoded data removed]"
          },
          "metadata": {
            "needs_background": "light"
          }
        }
      ],
      "source": [
        "import seaborn as sns\n",
        "# Graphing library\n",
        "\n",
        "sns.barplot(x=list(scores.keys()), y=list(scores.values()))\n",
        "plt.xticks(rotation=90)\n",
        "plt.title(\"Comparision of accuracy scores\")\n",
        "for i, val in enumerate(scores.values()):\n",
        "    plt.text(i, val+0.01, str(round(val, 3)), ha='center')"
      ]
    },
    {
      "cell_type": "code",
      "execution_count": 43,
      "metadata": {
        "id": "I0Tm6NInIQJk"
      },
      "outputs": [],
      "source": [
        "import pickle\n",
        "# perform serialization (exporting)\n",
        "\n",
        "with open(\"diabetes_model.pkl\", \"wb\") as f:\n",
        "    pickle.dump(rf_clf, f)\n",
        "\n",
        "with open(\"diabetes_scaler.pkl\", \"wb\") as f:\n",
        "    pickle.dump(scaler, f)"
      ]
    },
    {
      "cell_type": "code",
      "execution_count": 44,
      "metadata": {
        "id": "G7ch0PH9IQJk"
      },
      "outputs": [],
      "source": [
        "from sklearn.model_selection import GridSearchCV\n",
        "\n",
        "param_grid = {\n",
        "    'n_estimators': [100, 300, 500],\n",
        "    'min_samples_split': [2, 4, 6],\n",
        "    'max_features': ['sqrt', 'log2']\n",
        "}\n",
        "\n",
        "forest_clf = RandomForestClassifier()\n",
        "grid = GridSearchCV(forest_clf, param_grid=param_grid, scoring='accuracy', cv=3, verbose=2, n_jobs=-1)"
      ]
    },
    {
      "cell_type": "code",
      "execution_count": 45,
      "metadata": {
        "id": "j74aI4JJIQJk",
        "outputId": "d12c246c-816c-4c73-b5f9-81f78fb476d8",
        "colab": {
          "base_uri": "https://localhost:8080/"
        }
      },
      "outputs": [
        {
          "output_type": "stream",
          "name": "stdout",
          "text": [
            "Fitting 3 folds for each of 18 candidates, totalling 54 fits\n"
          ]
        },
        {
          "output_type": "execute_result",
          "data": {
            "text/plain": [
              "GridSearchCV(cv=3, estimator=RandomForestClassifier(), n_jobs=-1,\n",
              "             param_grid={'max_features': ['sqrt', 'log2'],\n",
              "                         'min_samples_split': [2, 4, 6],\n",
              "                         'n_estimators': [100, 300, 500]},\n",
              "             scoring='accuracy', verbose=2)"
            ]
          },
          "metadata": {},
          "execution_count": 45
        }
      ],
      "source": [
        "grid.fit(X_train, y_train)"
      ]
    },
    {
      "cell_type": "code",
      "execution_count": 46,
      "metadata": {
        "id": "wdycloNcIQJl",
        "outputId": "3a3fb18e-fa90-49e7-856c-5ab02dbe4ce1",
        "colab": {
          "base_uri": "https://localhost:8080/"
        }
      },
      "outputs": [
        {
          "output_type": "execute_result",
          "data": {
            "text/plain": [
              "{'bootstrap': True,\n",
              " 'ccp_alpha': 0.0,\n",
              " 'class_weight': None,\n",
              " 'criterion': 'gini',\n",
              " 'max_depth': None,\n",
              " 'max_features': 'log2',\n",
              " 'max_leaf_nodes': None,\n",
              " 'max_samples': None,\n",
              " 'min_impurity_decrease': 0.0,\n",
              " 'min_samples_leaf': 1,\n",
              " 'min_samples_split': 2,\n",
              " 'min_weight_fraction_leaf': 0.0,\n",
              " 'n_estimators': 100,\n",
              " 'n_jobs': None,\n",
              " 'oob_score': False,\n",
              " 'random_state': None,\n",
              " 'verbose': 0,\n",
              " 'warm_start': False}"
            ]
          },
          "metadata": {},
          "execution_count": 46
        }
      ],
      "source": [
        "grid.best_estimator_.get_params()"
      ]
    },
    {
      "cell_type": "code",
      "execution_count": 47,
      "metadata": {
        "id": "esBUKQwdIQJl",
        "outputId": "ef945627-fc75-473c-bb79-9d8043c288ee",
        "colab": {
          "base_uri": "https://localhost:8080/"
        }
      },
      "outputs": [
        {
          "output_type": "execute_result",
          "data": {
            "text/plain": [
              "0.8051948051948052"
            ]
          },
          "metadata": {},
          "execution_count": 47
        }
      ],
      "source": [
        "best_model = grid.best_estimator_\n",
        "best_model.score(X_test, y_test)"
      ]
    },
    {
      "cell_type": "code",
      "execution_count": 47,
      "metadata": {
        "id": "_Zd7u3FFIQJm"
      },
      "outputs": [],
      "source": []
    }
  ],
  "metadata": {
    "kernelspec": {
      "display_name": "Python 3 (ipykernel)",
      "language": "python",
      "name": "python3"
    },
    "language_info": {
      "codemirror_mode": {
        "name": "ipython",
        "version": 3
      },
      "file_extension": ".py",
      "mimetype": "text/x-python",
      "name": "python",
      "nbconvert_exporter": "python",
      "pygments_lexer": "ipython3",
      "version": "3.9.13"
    },
    "vscode": {
      "interpreter": {
        "hash": "718051e1d5668539c179b399d6d290bf1aab7fb9573166595b9982649f0d631f"
      }
    },
    "colab": {
      "provenance": []
    }
  },
  "nbformat": 4,
  "nbformat_minor": 0
}